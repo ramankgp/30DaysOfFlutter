{
  "nbformat": 4,
  "nbformat_minor": 0,
  "metadata": {
    "colab": {
      "name": "MTP significant variables.ipynb",
      "provenance": [],
      "collapsed_sections": [],
      "include_colab_link": true
    },
    "kernelspec": {
      "name": "python3",
      "display_name": "Python 3"
    },
    "language_info": {
      "name": "python"
    }
  },
  "cells": [
    {
      "cell_type": "markdown",
      "metadata": {
        "id": "view-in-github",
        "colab_type": "text"
      },
      "source": [
        "<a href=\"https://colab.research.google.com/github/ramankgp/30DaysOfFlutter/blob/day1/MTP_significant_variables.ipynb\" target=\"_parent\"><img src=\"https://colab.research.google.com/assets/colab-badge.svg\" alt=\"Open In Colab\"/></a>"
      ]
    },
    {
      "cell_type": "code",
      "metadata": {
        "id": "xYk23-5Ba-EE"
      },
      "source": [
        "# Importing the libraries\n",
        "import numpy as np\n",
        "import matplotlib.pyplot as plt\n",
        "import pandas as pd\n",
        "from sklearn.model_selection import train_test_split"
      ],
      "execution_count": null,
      "outputs": []
    },
    {
      "cell_type": "code",
      "source": [
        ""
      ],
      "metadata": {
        "id": "Fe3Ait9IikTR"
      },
      "execution_count": null,
      "outputs": []
    },
    {
      "cell_type": "code",
      "metadata": {
        "id": "s75pr73lqsEI"
      },
      "source": [
        "df = pd.read_csv('proj.csv')\n",
        "x1 = df.drop(columns=[\"Sr_NO\",\"Lat\",\"Lon\",\"EC\",\"Block\",\"Location\"])\n",
        "y2 = df[\"EC\"]"
      ],
      "execution_count": null,
      "outputs": []
    },
    {
      "cell_type": "code",
      "metadata": {
        "id": "3j12YvTfLmbR"
      },
      "source": [
        "y1=(y2>1500)*1.0"
      ],
      "execution_count": null,
      "outputs": []
    },
    {
      "cell_type": "code",
      "metadata": {
        "id": "SKs0-m76KM39"
      },
      "source": [
        "#df.head()"
      ],
      "execution_count": null,
      "outputs": []
    },
    {
      "cell_type": "code",
      "metadata": {
        "id": "WBRXu4hdr9tI"
      },
      "source": [
        "X_lithology=pd.get_dummies(x1['Lithology'])\n",
        "U=pd.concat([x1.drop(columns=[\"Lithology\"]),X_lithology],axis=1)"
      ],
      "execution_count": null,
      "outputs": []
    },
    {
      "cell_type": "code",
      "metadata": {
        "id": "RFvPRoCMf2R5"
      },
      "source": [
        "X_hydcond=pd.get_dummies(x1['Hyd_cond'])\n",
        "U2=pd.concat([U.drop(columns=[\"Hyd_cond\"]),X_hydcond],axis=1)"
      ],
      "execution_count": null,
      "outputs": []
    },
    {
      "cell_type": "code",
      "metadata": {
        "colab": {
          "base_uri": "https://localhost:8080/"
        },
        "id": "H8omgL6UkIzb",
        "outputId": "723a1986-7782-4c90-db4b-822bc25e62e4"
      },
      "source": [
        "len(U2.columns)"
      ],
      "execution_count": null,
      "outputs": [
        {
          "output_type": "execute_result",
          "data": {
            "text/plain": [
              "33"
            ]
          },
          "metadata": {
            "tags": []
          },
          "execution_count": 7
        }
      ]
    },
    {
      "cell_type": "code",
      "metadata": {
        "id": "Cy5wQvdYhWoL"
      },
      "source": [
        "U2=U2.rename(columns={U2.columns[27]: \"a\", U2.columns[28]: \"b\", U2.columns[29]: \"c\",U2.columns[30]: \"d\", U2.columns[31]: \"e\", U2.columns[32]: \"f\"})"
      ],
      "execution_count": null,
      "outputs": []
    },
    {
      "cell_type": "code",
      "metadata": {
        "colab": {
          "base_uri": "https://localhost:8080/"
        },
        "id": "c7ApY0ZTithx",
        "outputId": "65e578a3-57f0-4de7-c803-7e5f9ceb4c08"
      },
      "source": [
        "U2.columns"
      ],
      "execution_count": null,
      "outputs": [
        {
          "output_type": "execute_result",
          "data": {
            "text/plain": [
              "Index(['Pop_den', 'Precipi', 'ET', 'Aridity', 'Irr_gw', 'OC_sub', 'pH_sub',\n",
              "       'cec_sub', 'silt_sub', 'sand_sub', 'lulc', 'twi', 'elevation',\n",
              "       'Dist_coast_km', 'Dist_strm_km', 'mt', 'pa', 'pb', 'pi', 'sc', 'sm',\n",
              "       'ss', 'su', 'va', 'vb', 'vi', 'wb', 'a', 'b', 'c', 'd', 'e', 'f'],\n",
              "      dtype='object')"
            ]
          },
          "metadata": {
            "tags": []
          },
          "execution_count": 9
        }
      ]
    },
    {
      "cell_type": "code",
      "metadata": {
        "id": "WRC_wvnpf25A"
      },
      "source": [
        "X_lulc=pd.get_dummies(x1['lulc'])\n",
        "U3=pd.concat([U2.drop(columns=[\"lulc\"]),X_lulc],axis=1)"
      ],
      "execution_count": null,
      "outputs": []
    },
    {
      "cell_type": "code",
      "metadata": {
        "colab": {
          "base_uri": "https://localhost:8080/"
        },
        "id": "IL4nUMXqjHGz",
        "outputId": "c3d03d99-cd7d-421b-e713-4c6d6c708ed2"
      },
      "source": [
        "len(U3.columns)"
      ],
      "execution_count": null,
      "outputs": [
        {
          "output_type": "execute_result",
          "data": {
            "text/plain": [
              "42"
            ]
          },
          "metadata": {
            "tags": []
          },
          "execution_count": 11
        }
      ]
    },
    {
      "cell_type": "code",
      "metadata": {
        "id": "uh34Y7pxbNHy"
      },
      "source": [
        "U3=U3.rename(columns={U3.columns[32]: \"a1\", U3.columns[33]: \"b1\", U3.columns[34]: \"c1\", U3.columns[35]: \"d1\",U3.columns[36]: \"e1\", U3.columns[37]: \"f1\", U3.columns[38]: \"g1\", U3.columns[39]: \"h1\",U3.columns[40]: \"i1\",U3.columns[41]: \"j1\"})"
      ],
      "execution_count": null,
      "outputs": []
    },
    {
      "cell_type": "code",
      "metadata": {
        "id": "_Obgnai_cJf9",
        "colab": {
          "base_uri": "https://localhost:8080/"
        },
        "outputId": "9e6d225e-fd63-494f-abb5-40a815aeac0d"
      },
      "source": [
        "print(U3.columns)"
      ],
      "execution_count": null,
      "outputs": [
        {
          "output_type": "stream",
          "text": [
            "Index(['Pop_den', 'Precipi', 'ET', 'Aridity', 'Irr_gw', 'OC_sub', 'pH_sub',\n",
            "       'cec_sub', 'silt_sub', 'sand_sub', 'twi', 'elevation', 'Dist_coast_km',\n",
            "       'Dist_strm_km', 'mt', 'pa', 'pb', 'pi', 'sc', 'sm', 'ss', 'su', 'va',\n",
            "       'vb', 'vi', 'wb', 'a', 'b', 'c', 'd', 'e', 'f', 'a1', 'b1', 'c1', 'd1',\n",
            "       'e1', 'f1', 'g1', 'h1', 'i1', 'j1'],\n",
            "      dtype='object')\n"
          ],
          "name": "stdout"
        }
      ]
    },
    {
      "cell_type": "code",
      "metadata": {
        "id": "QMQzvMZT1gJ5"
      },
      "source": [
        "newset=pd.concat([U3,y1],axis=1)\n",
        "# newset.corr('spearman').sort_values(['EC'],ascending=False)['EC']"
      ],
      "execution_count": null,
      "outputs": []
    },
    {
      "cell_type": "code",
      "metadata": {
        "colab": {
          "base_uri": "https://localhost:8080/"
        },
        "id": "0TWQ8DfelA4F",
        "outputId": "947e4466-e9cd-4f06-c061-eda04fc4d232"
      },
      "source": [
        "newset.columns"
      ],
      "execution_count": null,
      "outputs": [
        {
          "output_type": "execute_result",
          "data": {
            "text/plain": [
              "Index(['Pop_den', 'Precipi', 'ET', 'Aridity', 'Irr_gw', 'OC_sub', 'pH_sub',\n",
              "       'cec_sub', 'silt_sub', 'sand_sub', 'twi', 'elevation', 'Dist_coast_km',\n",
              "       'Dist_strm_km', 'mt', 'pa', 'pb', 'pi', 'sc', 'sm', 'ss', 'su', 'va',\n",
              "       'vb', 'vi', 'wb', 'a', 'b', 'c', 'd', 'e', 'f', 'a1', 'b1', 'c1', 'd1',\n",
              "       'e1', 'f1', 'g1', 'h1', 'i1', 'j1', 'EC'],\n",
              "      dtype='object')"
            ]
          },
          "metadata": {
            "tags": []
          },
          "execution_count": 16
        }
      ]
    },
    {
      "cell_type": "code",
      "metadata": {
        "colab": {
          "base_uri": "https://localhost:8080/"
        },
        "id": "Ae-FUaueFpRS",
        "outputId": "f8a4783a-21a7-4dd5-bcd6-076d7b296b07"
      },
      "source": [
        "newset.isna().sum()"
      ],
      "execution_count": null,
      "outputs": [
        {
          "output_type": "execute_result",
          "data": {
            "text/plain": [
              "Pop_den          0\n",
              "Precipi          0\n",
              "ET               0\n",
              "Aridity          0\n",
              "Irr_gw           0\n",
              "OC_sub           0\n",
              "pH_sub           0\n",
              "cec_sub          0\n",
              "silt_sub         0\n",
              "sand_sub         0\n",
              "twi              0\n",
              "elevation        0\n",
              "Dist_coast_km    0\n",
              "Dist_strm_km     0\n",
              "mt               0\n",
              "pa               0\n",
              "pb               0\n",
              "pi               0\n",
              "sc               0\n",
              "sm               0\n",
              "ss               0\n",
              "su               0\n",
              "va               0\n",
              "vb               0\n",
              "vi               0\n",
              "wb               0\n",
              "a                0\n",
              "b                0\n",
              "c                0\n",
              "d                0\n",
              "e                0\n",
              "f                0\n",
              "a1               0\n",
              "b1               0\n",
              "c1               0\n",
              "d1               0\n",
              "e1               0\n",
              "f1               0\n",
              "g1               0\n",
              "h1               0\n",
              "i1               0\n",
              "j1               0\n",
              "EC               0\n",
              "dtype: int64"
            ]
          },
          "metadata": {
            "tags": []
          },
          "execution_count": 17
        }
      ]
    },
    {
      "cell_type": "code",
      "metadata": {
        "id": "WSM9nPiW-1Ax"
      },
      "source": [
        "from scipy.stats import spearmanr\n",
        "correlation, pval = spearmanr(newset)"
      ],
      "execution_count": null,
      "outputs": []
    },
    {
      "cell_type": "code",
      "metadata": {
        "id": "67JPNDaaGInP",
        "colab": {
          "base_uri": "https://localhost:8080/"
        },
        "outputId": "a66f0689-71f5-4d61-affc-f059d8d3eb40"
      },
      "source": [
        "pd.DataFrame(correlation)[42]"
      ],
      "execution_count": null,
      "outputs": [
        {
          "output_type": "execute_result",
          "data": {
            "text/plain": [
              "0    -0.036388\n",
              "1    -0.376068\n",
              "2     0.323133\n",
              "3    -0.395339\n",
              "4     0.142957\n",
              "5    -0.076489\n",
              "6     0.336463\n",
              "7     0.032309\n",
              "8    -0.133847\n",
              "9     0.146738\n",
              "10    0.089828\n",
              "11    0.026319\n",
              "12   -0.007193\n",
              "13   -0.039762\n",
              "14    0.009905\n",
              "15    0.009288\n",
              "16    0.041940\n",
              "17    0.009608\n",
              "18    0.013853\n",
              "19   -0.010176\n",
              "20   -0.060487\n",
              "21    0.006800\n",
              "22    0.039051\n",
              "23    0.011260\n",
              "24   -0.018994\n",
              "25   -0.011523\n",
              "26   -0.022479\n",
              "27   -0.072186\n",
              "28   -0.000539\n",
              "29    0.031697\n",
              "30    0.004924\n",
              "31    0.033685\n",
              "32    0.000620\n",
              "33    0.065450\n",
              "34    0.050137\n",
              "35   -0.090657\n",
              "36   -0.061626\n",
              "37   -0.007543\n",
              "38   -0.006158\n",
              "39    0.009608\n",
              "40    0.042859\n",
              "41   -0.009763\n",
              "42    1.000000\n",
              "Name: 42, dtype: float64"
            ]
          },
          "metadata": {
            "tags": []
          },
          "execution_count": 19
        }
      ]
    },
    {
      "cell_type": "code",
      "metadata": {
        "id": "4w5SyimFHD1w",
        "colab": {
          "base_uri": "https://localhost:8080/"
        },
        "outputId": "90fb479d-f6e7-4863-f598-b6f6c99e58e6"
      },
      "source": [
        "pd.DataFrame(pval)[42]"
      ],
      "execution_count": null,
      "outputs": [
        {
          "output_type": "execute_result",
          "data": {
            "text/plain": [
              "0      3.821941e-05\n",
              "1      0.000000e+00\n",
              "2     7.006477e-309\n",
              "3      0.000000e+00\n",
              "4      2.012352e-59\n",
              "5      4.478314e-18\n",
              "6      0.000000e+00\n",
              "7      2.561344e-04\n",
              "8      3.006620e-52\n",
              "9      1.525253e-62\n",
              "10     2.364894e-24\n",
              "11     2.901148e-03\n",
              "12     4.157884e-01\n",
              "13     6.793320e-06\n",
              "14     2.624737e-01\n",
              "15     2.933682e-01\n",
              "16     2.067079e-06\n",
              "17     2.770395e-01\n",
              "18     1.170528e-01\n",
              "19     2.496494e-01\n",
              "20     7.429130e-12\n",
              "21     4.417091e-01\n",
              "22     9.888843e-06\n",
              "23     2.026973e-01\n",
              "24     3.163832e-02\n",
              "25     1.923436e-01\n",
              "26     1.097833e-02\n",
              "27     2.908637e-16\n",
              "28     9.513668e-01\n",
              "29     3.348347e-04\n",
              "30     5.774734e-01\n",
              "31     1.379118e-04\n",
              "32     9.441231e-01\n",
              "33     1.240741e-13\n",
              "34     1.381942e-08\n",
              "35     8.925694e-25\n",
              "36     2.985100e-12\n",
              "37     3.934888e-01\n",
              "38     4.859954e-01\n",
              "39     2.770395e-01\n",
              "40     1.229448e-06\n",
              "41     2.693844e-01\n",
              "42     0.000000e+00\n",
              "Name: 42, dtype: float64"
            ]
          },
          "metadata": {
            "tags": []
          },
          "execution_count": 22
        }
      ]
    },
    {
      "cell_type": "code",
      "metadata": {
        "id": "nOIgDS18JSEs"
      },
      "source": [
        " from sklearn.model_selection import train_test_split\n",
        " U_train, U_test, y_train, y_test = train_test_split(U3, y1, test_size=0.20, random_state=0)"
      ],
      "execution_count": null,
      "outputs": []
    },
    {
      "cell_type": "code",
      "metadata": {
        "id": "PVLr9oZWJtpK"
      },
      "source": [
        "#U_train.head()"
      ],
      "execution_count": null,
      "outputs": []
    },
    {
      "cell_type": "code",
      "metadata": {
        "id": "S-55E99rLaor"
      },
      "source": [
        "#y_train"
      ],
      "execution_count": null,
      "outputs": []
    },
    {
      "cell_type": "code",
      "metadata": {
        "id": "A1f8kCCtIkMN",
        "colab": {
          "base_uri": "https://localhost:8080/"
        },
        "outputId": "eefac854-31a8-4849-c98a-15b09496bb85"
      },
      "source": [
        "from sklearn.linear_model import LogisticRegression\n",
        "\n",
        "clf = LogisticRegression(max_iter=10000,random_state=0)\n",
        "clf.fit(U_train, y_train)\n",
        "predicted = clf.predict(U_test)\n",
        "predicted"
      ],
      "execution_count": null,
      "outputs": [
        {
          "output_type": "execute_result",
          "data": {
            "text/plain": [
              "array([0., 0., 0., ..., 0., 1., 0.])"
            ]
          },
          "metadata": {
            "tags": []
          },
          "execution_count": 21
        }
      ]
    },
    {
      "cell_type": "code",
      "metadata": {
        "id": "urImw6ryqg-E",
        "colab": {
          "base_uri": "https://localhost:8080/",
          "height": 419
        },
        "outputId": "f9092377-c7e4-4e46-f6c9-960cc86c4f77"
      },
      "source": [
        "pd.DataFrame(clf.predict_proba(U_train))"
      ],
      "execution_count": null,
      "outputs": [
        {
          "output_type": "execute_result",
          "data": {
            "text/html": [
              "<div>\n",
              "<style scoped>\n",
              "    .dataframe tbody tr th:only-of-type {\n",
              "        vertical-align: middle;\n",
              "    }\n",
              "\n",
              "    .dataframe tbody tr th {\n",
              "        vertical-align: top;\n",
              "    }\n",
              "\n",
              "    .dataframe thead th {\n",
              "        text-align: right;\n",
              "    }\n",
              "</style>\n",
              "<table border=\"1\" class=\"dataframe\">\n",
              "  <thead>\n",
              "    <tr style=\"text-align: right;\">\n",
              "      <th></th>\n",
              "      <th>0</th>\n",
              "      <th>1</th>\n",
              "    </tr>\n",
              "  </thead>\n",
              "  <tbody>\n",
              "    <tr>\n",
              "      <th>0</th>\n",
              "      <td>0.922000</td>\n",
              "      <td>0.078000</td>\n",
              "    </tr>\n",
              "    <tr>\n",
              "      <th>1</th>\n",
              "      <td>0.485214</td>\n",
              "      <td>0.514786</td>\n",
              "    </tr>\n",
              "    <tr>\n",
              "      <th>2</th>\n",
              "      <td>0.988665</td>\n",
              "      <td>0.011335</td>\n",
              "    </tr>\n",
              "    <tr>\n",
              "      <th>3</th>\n",
              "      <td>0.968226</td>\n",
              "      <td>0.031774</td>\n",
              "    </tr>\n",
              "    <tr>\n",
              "      <th>4</th>\n",
              "      <td>0.616911</td>\n",
              "      <td>0.383089</td>\n",
              "    </tr>\n",
              "    <tr>\n",
              "      <th>...</th>\n",
              "      <td>...</td>\n",
              "      <td>...</td>\n",
              "    </tr>\n",
              "    <tr>\n",
              "      <th>10235</th>\n",
              "      <td>0.992287</td>\n",
              "      <td>0.007713</td>\n",
              "    </tr>\n",
              "    <tr>\n",
              "      <th>10236</th>\n",
              "      <td>0.932653</td>\n",
              "      <td>0.067347</td>\n",
              "    </tr>\n",
              "    <tr>\n",
              "      <th>10237</th>\n",
              "      <td>0.751846</td>\n",
              "      <td>0.248154</td>\n",
              "    </tr>\n",
              "    <tr>\n",
              "      <th>10238</th>\n",
              "      <td>0.901137</td>\n",
              "      <td>0.098863</td>\n",
              "    </tr>\n",
              "    <tr>\n",
              "      <th>10239</th>\n",
              "      <td>0.645474</td>\n",
              "      <td>0.354526</td>\n",
              "    </tr>\n",
              "  </tbody>\n",
              "</table>\n",
              "<p>10240 rows × 2 columns</p>\n",
              "</div>"
            ],
            "text/plain": [
              "              0         1\n",
              "0      0.922000  0.078000\n",
              "1      0.485214  0.514786\n",
              "2      0.988665  0.011335\n",
              "3      0.968226  0.031774\n",
              "4      0.616911  0.383089\n",
              "...         ...       ...\n",
              "10235  0.992287  0.007713\n",
              "10236  0.932653  0.067347\n",
              "10237  0.751846  0.248154\n",
              "10238  0.901137  0.098863\n",
              "10239  0.645474  0.354526\n",
              "\n",
              "[10240 rows x 2 columns]"
            ]
          },
          "metadata": {
            "tags": []
          },
          "execution_count": 27
        }
      ]
    },
    {
      "cell_type": "code",
      "metadata": {
        "id": "bhUlaOvwNt4b",
        "colab": {
          "base_uri": "https://localhost:8080/",
          "height": 1000
        },
        "outputId": "96bd10cf-3628-456d-8a77-a319cba79fc9"
      },
      "source": [
        "pd.DataFrame(clf.coef_).transpose()"
      ],
      "execution_count": null,
      "outputs": [
        {
          "output_type": "execute_result",
          "data": {
            "text/html": [
              "<div>\n",
              "<style scoped>\n",
              "    .dataframe tbody tr th:only-of-type {\n",
              "        vertical-align: middle;\n",
              "    }\n",
              "\n",
              "    .dataframe tbody tr th {\n",
              "        vertical-align: top;\n",
              "    }\n",
              "\n",
              "    .dataframe thead th {\n",
              "        text-align: right;\n",
              "    }\n",
              "</style>\n",
              "<table border=\"1\" class=\"dataframe\">\n",
              "  <thead>\n",
              "    <tr style=\"text-align: right;\">\n",
              "      <th></th>\n",
              "      <th>0</th>\n",
              "    </tr>\n",
              "  </thead>\n",
              "  <tbody>\n",
              "    <tr>\n",
              "      <th>0</th>\n",
              "      <td>0.000024</td>\n",
              "    </tr>\n",
              "    <tr>\n",
              "      <th>1</th>\n",
              "      <td>-0.000431</td>\n",
              "    </tr>\n",
              "    <tr>\n",
              "      <th>2</th>\n",
              "      <td>-0.000742</td>\n",
              "    </tr>\n",
              "    <tr>\n",
              "      <th>3</th>\n",
              "      <td>-0.002190</td>\n",
              "    </tr>\n",
              "    <tr>\n",
              "      <th>4</th>\n",
              "      <td>0.003624</td>\n",
              "    </tr>\n",
              "    <tr>\n",
              "      <th>5</th>\n",
              "      <td>0.001922</td>\n",
              "    </tr>\n",
              "    <tr>\n",
              "      <th>6</th>\n",
              "      <td>0.082795</td>\n",
              "    </tr>\n",
              "    <tr>\n",
              "      <th>7</th>\n",
              "      <td>-0.021623</td>\n",
              "    </tr>\n",
              "    <tr>\n",
              "      <th>8</th>\n",
              "      <td>-0.106019</td>\n",
              "    </tr>\n",
              "    <tr>\n",
              "      <th>9</th>\n",
              "      <td>-0.008356</td>\n",
              "    </tr>\n",
              "    <tr>\n",
              "      <th>10</th>\n",
              "      <td>0.005588</td>\n",
              "    </tr>\n",
              "    <tr>\n",
              "      <th>11</th>\n",
              "      <td>-0.001394</td>\n",
              "    </tr>\n",
              "    <tr>\n",
              "      <th>12</th>\n",
              "      <td>-0.001118</td>\n",
              "    </tr>\n",
              "    <tr>\n",
              "      <th>13</th>\n",
              "      <td>-0.028263</td>\n",
              "    </tr>\n",
              "    <tr>\n",
              "      <th>14</th>\n",
              "      <td>-0.098519</td>\n",
              "    </tr>\n",
              "    <tr>\n",
              "      <th>15</th>\n",
              "      <td>-0.149456</td>\n",
              "    </tr>\n",
              "    <tr>\n",
              "      <th>16</th>\n",
              "      <td>0.073704</td>\n",
              "    </tr>\n",
              "    <tr>\n",
              "      <th>17</th>\n",
              "      <td>0.005047</td>\n",
              "    </tr>\n",
              "    <tr>\n",
              "      <th>18</th>\n",
              "      <td>-0.037117</td>\n",
              "    </tr>\n",
              "    <tr>\n",
              "      <th>19</th>\n",
              "      <td>-0.018729</td>\n",
              "    </tr>\n",
              "    <tr>\n",
              "      <th>20</th>\n",
              "      <td>-0.220035</td>\n",
              "    </tr>\n",
              "    <tr>\n",
              "      <th>21</th>\n",
              "      <td>0.269763</td>\n",
              "    </tr>\n",
              "    <tr>\n",
              "      <th>22</th>\n",
              "      <td>0.009849</td>\n",
              "    </tr>\n",
              "    <tr>\n",
              "      <th>23</th>\n",
              "      <td>0.060855</td>\n",
              "    </tr>\n",
              "    <tr>\n",
              "      <th>24</th>\n",
              "      <td>-0.010162</td>\n",
              "    </tr>\n",
              "    <tr>\n",
              "      <th>25</th>\n",
              "      <td>-0.004521</td>\n",
              "    </tr>\n",
              "    <tr>\n",
              "      <th>26</th>\n",
              "      <td>0.045120</td>\n",
              "    </tr>\n",
              "    <tr>\n",
              "      <th>27</th>\n",
              "      <td>-0.279100</td>\n",
              "    </tr>\n",
              "    <tr>\n",
              "      <th>28</th>\n",
              "      <td>-0.031449</td>\n",
              "    </tr>\n",
              "    <tr>\n",
              "      <th>29</th>\n",
              "      <td>-0.040859</td>\n",
              "    </tr>\n",
              "    <tr>\n",
              "      <th>30</th>\n",
              "      <td>0.111684</td>\n",
              "    </tr>\n",
              "    <tr>\n",
              "      <th>31</th>\n",
              "      <td>0.073862</td>\n",
              "    </tr>\n",
              "    <tr>\n",
              "      <th>32</th>\n",
              "      <td>-0.033394</td>\n",
              "    </tr>\n",
              "    <tr>\n",
              "      <th>33</th>\n",
              "      <td>-0.147330</td>\n",
              "    </tr>\n",
              "    <tr>\n",
              "      <th>34</th>\n",
              "      <td>-0.000777</td>\n",
              "    </tr>\n",
              "    <tr>\n",
              "      <th>35</th>\n",
              "      <td>0.085865</td>\n",
              "    </tr>\n",
              "    <tr>\n",
              "      <th>36</th>\n",
              "      <td>0.008552</td>\n",
              "    </tr>\n",
              "    <tr>\n",
              "      <th>37</th>\n",
              "      <td>-0.001037</td>\n",
              "    </tr>\n",
              "    <tr>\n",
              "      <th>38</th>\n",
              "      <td>-0.000329</td>\n",
              "    </tr>\n",
              "    <tr>\n",
              "      <th>39</th>\n",
              "      <td>-0.002209</td>\n",
              "    </tr>\n",
              "    <tr>\n",
              "      <th>40</th>\n",
              "      <td>-0.053173</td>\n",
              "    </tr>\n",
              "    <tr>\n",
              "      <th>41</th>\n",
              "      <td>0.023090</td>\n",
              "    </tr>\n",
              "  </tbody>\n",
              "</table>\n",
              "</div>"
            ],
            "text/plain": [
              "           0\n",
              "0   0.000024\n",
              "1  -0.000431\n",
              "2  -0.000742\n",
              "3  -0.002190\n",
              "4   0.003624\n",
              "5   0.001922\n",
              "6   0.082795\n",
              "7  -0.021623\n",
              "8  -0.106019\n",
              "9  -0.008356\n",
              "10  0.005588\n",
              "11 -0.001394\n",
              "12 -0.001118\n",
              "13 -0.028263\n",
              "14 -0.098519\n",
              "15 -0.149456\n",
              "16  0.073704\n",
              "17  0.005047\n",
              "18 -0.037117\n",
              "19 -0.018729\n",
              "20 -0.220035\n",
              "21  0.269763\n",
              "22  0.009849\n",
              "23  0.060855\n",
              "24 -0.010162\n",
              "25 -0.004521\n",
              "26  0.045120\n",
              "27 -0.279100\n",
              "28 -0.031449\n",
              "29 -0.040859\n",
              "30  0.111684\n",
              "31  0.073862\n",
              "32 -0.033394\n",
              "33 -0.147330\n",
              "34 -0.000777\n",
              "35  0.085865\n",
              "36  0.008552\n",
              "37 -0.001037\n",
              "38 -0.000329\n",
              "39 -0.002209\n",
              "40 -0.053173\n",
              "41  0.023090"
            ]
          },
          "metadata": {
            "tags": []
          },
          "execution_count": 22
        }
      ]
    },
    {
      "cell_type": "code",
      "metadata": {
        "id": "HjYE2TYDVfLt",
        "colab": {
          "base_uri": "https://localhost:8080/"
        },
        "outputId": "8f346e04-b820-4065-df16-1806bc58f5ce"
      },
      "source": [
        "import statsmodels.api as sm"
      ],
      "execution_count": null,
      "outputs": [
        {
          "output_type": "stream",
          "text": [
            "/usr/local/lib/python3.7/dist-packages/statsmodels/tools/_testing.py:19: FutureWarning: pandas.util.testing is deprecated. Use the functions in the public API at pandas.testing instead.\n",
            "  import pandas.util.testing as tm\n"
          ],
          "name": "stderr"
        }
      ]
    },
    {
      "cell_type": "code",
      "metadata": {
        "id": "00TJjRcQVf4p",
        "colab": {
          "base_uri": "https://localhost:8080/",
          "height": 796
        },
        "outputId": "42573860-037d-427a-b536-10d2f05ddff8"
      },
      "source": [
        "model = sm.GLM.from_formula(\"EC ~ Pop_den + Precipi + ET + Aridity + Irr_gw + OC_sub + pH_sub + cec_sub + silt_sub+sand_sub +twi + elevation + Dist_coast_km + Dist_strm_km + mt+pa+pb+pi+sc+sm+ss+su+va+vb+vi+wb\", family=sm.families.Binomial(), data=newset)\n",
        "result = model.fit()\n",
        "result.summary() "
      ],
      "execution_count": null,
      "outputs": [
        {
          "output_type": "execute_result",
          "data": {
            "text/html": [
              "<table class=\"simpletable\">\n",
              "<caption>Generalized Linear Model Regression Results</caption>\n",
              "<tr>\n",
              "  <th>Dep. Variable:</th>          <td>EC</td>        <th>  No. Observations:  </th>  <td> 12801</td> \n",
              "</tr>\n",
              "<tr>\n",
              "  <th>Model:</th>                  <td>GLM</td>       <th>  Df Residuals:      </th>  <td> 12774</td> \n",
              "</tr>\n",
              "<tr>\n",
              "  <th>Model Family:</th>        <td>Binomial</td>     <th>  Df Model:          </th>  <td>    26</td> \n",
              "</tr>\n",
              "<tr>\n",
              "  <th>Link Function:</th>         <td>logit</td>      <th>  Scale:             </th> <td>  1.0000</td>\n",
              "</tr>\n",
              "<tr>\n",
              "  <th>Method:</th>                <td>IRLS</td>       <th>  Log-Likelihood:    </th> <td> -4983.0</td>\n",
              "</tr>\n",
              "<tr>\n",
              "  <th>Date:</th>            <td>Thu, 08 Apr 2021</td> <th>  Deviance:          </th> <td>  9966.1</td>\n",
              "</tr>\n",
              "<tr>\n",
              "  <th>Time:</th>                <td>09:35:52</td>     <th>  Pearson chi2:      </th> <td>1.51e+04</td>\n",
              "</tr>\n",
              "<tr>\n",
              "  <th>No. Iterations:</th>         <td>22</td>        <th>                     </th>     <td> </td>   \n",
              "</tr>\n",
              "<tr>\n",
              "  <th>Covariance Type:</th>     <td>nonrobust</td>    <th>                     </th>     <td> </td>   \n",
              "</tr>\n",
              "</table>\n",
              "<table class=\"simpletable\">\n",
              "<tr>\n",
              "        <td></td>           <th>coef</th>     <th>std err</th>      <th>z</th>      <th>P>|z|</th>  <th>[0.025</th>    <th>0.975]</th>  \n",
              "</tr>\n",
              "<tr>\n",
              "  <th>Intercept</th>     <td>  -35.8346</td> <td> 4.55e+04</td> <td>   -0.001</td> <td> 0.999</td> <td>-8.93e+04</td> <td> 8.92e+04</td>\n",
              "</tr>\n",
              "<tr>\n",
              "  <th>Pop_den</th>       <td> 2.731e-05</td> <td> 9.12e-06</td> <td>    2.996</td> <td> 0.003</td> <td> 9.44e-06</td> <td> 4.52e-05</td>\n",
              "</tr>\n",
              "<tr>\n",
              "  <th>Precipi</th>       <td>   -0.0013</td> <td>    0.000</td> <td>   -3.982</td> <td> 0.000</td> <td>   -0.002</td> <td>   -0.001</td>\n",
              "</tr>\n",
              "<tr>\n",
              "  <th>ET</th>            <td>    0.0016</td> <td>    0.000</td> <td>    5.397</td> <td> 0.000</td> <td>    0.001</td> <td>    0.002</td>\n",
              "</tr>\n",
              "<tr>\n",
              "  <th>Aridity</th>       <td> 1.708e-05</td> <td>    0.000</td> <td>    0.067</td> <td> 0.946</td> <td>   -0.000</td> <td>    0.001</td>\n",
              "</tr>\n",
              "<tr>\n",
              "  <th>Irr_gw</th>        <td>    0.0021</td> <td>    0.001</td> <td>    2.236</td> <td> 0.025</td> <td>    0.000</td> <td>    0.004</td>\n",
              "</tr>\n",
              "<tr>\n",
              "  <th>OC_sub</th>        <td>    0.0017</td> <td>    0.000</td> <td>    3.495</td> <td> 0.000</td> <td>    0.001</td> <td>    0.003</td>\n",
              "</tr>\n",
              "<tr>\n",
              "  <th>pH_sub</th>        <td>    0.1249</td> <td>    0.008</td> <td>   15.679</td> <td> 0.000</td> <td>    0.109</td> <td>    0.141</td>\n",
              "</tr>\n",
              "<tr>\n",
              "  <th>cec_sub</th>       <td>   -0.0078</td> <td>    0.005</td> <td>   -1.509</td> <td> 0.131</td> <td>   -0.018</td> <td>    0.002</td>\n",
              "</tr>\n",
              "<tr>\n",
              "  <th>silt_sub</th>      <td>    0.0045</td> <td>    0.011</td> <td>    0.417</td> <td> 0.677</td> <td>   -0.017</td> <td>    0.026</td>\n",
              "</tr>\n",
              "<tr>\n",
              "  <th>sand_sub</th>      <td>    0.0446</td> <td>    0.008</td> <td>    5.757</td> <td> 0.000</td> <td>    0.029</td> <td>    0.060</td>\n",
              "</tr>\n",
              "<tr>\n",
              "  <th>twi</th>           <td>    0.0315</td> <td>    0.014</td> <td>    2.209</td> <td> 0.027</td> <td>    0.004</td> <td>    0.059</td>\n",
              "</tr>\n",
              "<tr>\n",
              "  <th>elevation</th>     <td>   -0.0001</td> <td>    0.000</td> <td>   -0.721</td> <td> 0.471</td> <td>   -0.000</td> <td>    0.000</td>\n",
              "</tr>\n",
              "<tr>\n",
              "  <th>Dist_coast_km</th> <td>   -0.0018</td> <td>    0.000</td> <td>  -11.687</td> <td> 0.000</td> <td>   -0.002</td> <td>   -0.001</td>\n",
              "</tr>\n",
              "<tr>\n",
              "  <th>Dist_strm_km</th>  <td>   -0.0172</td> <td>    0.011</td> <td>   -1.509</td> <td> 0.131</td> <td>   -0.040</td> <td>    0.005</td>\n",
              "</tr>\n",
              "<tr>\n",
              "  <th>mt</th>            <td>   21.0927</td> <td> 4.55e+04</td> <td>    0.000</td> <td> 1.000</td> <td>-8.92e+04</td> <td> 8.93e+04</td>\n",
              "</tr>\n",
              "<tr>\n",
              "  <th>pa</th>            <td>   20.9777</td> <td> 4.55e+04</td> <td>    0.000</td> <td> 1.000</td> <td>-8.92e+04</td> <td> 8.93e+04</td>\n",
              "</tr>\n",
              "<tr>\n",
              "  <th>pb</th>            <td>   22.0919</td> <td> 4.55e+04</td> <td>    0.000</td> <td> 1.000</td> <td>-8.92e+04</td> <td> 8.93e+04</td>\n",
              "</tr>\n",
              "<tr>\n",
              "  <th>pi</th>            <td>   22.3914</td> <td> 4.55e+04</td> <td>    0.000</td> <td> 1.000</td> <td>-8.92e+04</td> <td> 8.93e+04</td>\n",
              "</tr>\n",
              "<tr>\n",
              "  <th>sc</th>            <td>   20.4929</td> <td> 4.55e+04</td> <td>    0.000</td> <td> 1.000</td> <td>-8.93e+04</td> <td> 8.93e+04</td>\n",
              "</tr>\n",
              "<tr>\n",
              "  <th>sm</th>            <td>   20.9892</td> <td> 4.55e+04</td> <td>    0.000</td> <td> 1.000</td> <td>-8.92e+04</td> <td> 8.93e+04</td>\n",
              "</tr>\n",
              "<tr>\n",
              "  <th>ss</th>            <td>   20.6174</td> <td> 4.55e+04</td> <td>    0.000</td> <td> 1.000</td> <td>-8.93e+04</td> <td> 8.93e+04</td>\n",
              "</tr>\n",
              "<tr>\n",
              "  <th>su</th>            <td>   21.1797</td> <td> 4.55e+04</td> <td>    0.000</td> <td> 1.000</td> <td>-8.92e+04</td> <td> 8.93e+04</td>\n",
              "</tr>\n",
              "<tr>\n",
              "  <th>va</th>            <td>   21.1851</td> <td> 4.55e+04</td> <td>    0.000</td> <td> 1.000</td> <td>-8.92e+04</td> <td> 8.93e+04</td>\n",
              "</tr>\n",
              "<tr>\n",
              "  <th>vb</th>            <td>   20.8977</td> <td> 4.55e+04</td> <td>    0.000</td> <td> 1.000</td> <td>-8.92e+04</td> <td> 8.93e+04</td>\n",
              "</tr>\n",
              "<tr>\n",
              "  <th>vi</th>            <td>    0.1893</td> <td> 4.89e+04</td> <td> 3.87e-06</td> <td> 1.000</td> <td>-9.58e+04</td> <td> 9.58e+04</td>\n",
              "</tr>\n",
              "<tr>\n",
              "  <th>wb</th>            <td>    0.0865</td> <td> 5.41e+04</td> <td>  1.6e-06</td> <td> 1.000</td> <td>-1.06e+05</td> <td> 1.06e+05</td>\n",
              "</tr>\n",
              "</table>"
            ],
            "text/plain": [
              "<class 'statsmodels.iolib.summary.Summary'>\n",
              "\"\"\"\n",
              "                 Generalized Linear Model Regression Results                  \n",
              "==============================================================================\n",
              "Dep. Variable:                     EC   No. Observations:                12801\n",
              "Model:                            GLM   Df Residuals:                    12774\n",
              "Model Family:                Binomial   Df Model:                           26\n",
              "Link Function:                  logit   Scale:                          1.0000\n",
              "Method:                          IRLS   Log-Likelihood:                -4983.0\n",
              "Date:                Thu, 08 Apr 2021   Deviance:                       9966.1\n",
              "Time:                        09:35:52   Pearson chi2:                 1.51e+04\n",
              "No. Iterations:                    22                                         \n",
              "Covariance Type:            nonrobust                                         \n",
              "=================================================================================\n",
              "                    coef    std err          z      P>|z|      [0.025      0.975]\n",
              "---------------------------------------------------------------------------------\n",
              "Intercept       -35.8346   4.55e+04     -0.001      0.999   -8.93e+04    8.92e+04\n",
              "Pop_den        2.731e-05   9.12e-06      2.996      0.003    9.44e-06    4.52e-05\n",
              "Precipi          -0.0013      0.000     -3.982      0.000      -0.002      -0.001\n",
              "ET                0.0016      0.000      5.397      0.000       0.001       0.002\n",
              "Aridity        1.708e-05      0.000      0.067      0.946      -0.000       0.001\n",
              "Irr_gw            0.0021      0.001      2.236      0.025       0.000       0.004\n",
              "OC_sub            0.0017      0.000      3.495      0.000       0.001       0.003\n",
              "pH_sub            0.1249      0.008     15.679      0.000       0.109       0.141\n",
              "cec_sub          -0.0078      0.005     -1.509      0.131      -0.018       0.002\n",
              "silt_sub          0.0045      0.011      0.417      0.677      -0.017       0.026\n",
              "sand_sub          0.0446      0.008      5.757      0.000       0.029       0.060\n",
              "twi               0.0315      0.014      2.209      0.027       0.004       0.059\n",
              "elevation        -0.0001      0.000     -0.721      0.471      -0.000       0.000\n",
              "Dist_coast_km    -0.0018      0.000    -11.687      0.000      -0.002      -0.001\n",
              "Dist_strm_km     -0.0172      0.011     -1.509      0.131      -0.040       0.005\n",
              "mt               21.0927   4.55e+04      0.000      1.000   -8.92e+04    8.93e+04\n",
              "pa               20.9777   4.55e+04      0.000      1.000   -8.92e+04    8.93e+04\n",
              "pb               22.0919   4.55e+04      0.000      1.000   -8.92e+04    8.93e+04\n",
              "pi               22.3914   4.55e+04      0.000      1.000   -8.92e+04    8.93e+04\n",
              "sc               20.4929   4.55e+04      0.000      1.000   -8.93e+04    8.93e+04\n",
              "sm               20.9892   4.55e+04      0.000      1.000   -8.92e+04    8.93e+04\n",
              "ss               20.6174   4.55e+04      0.000      1.000   -8.93e+04    8.93e+04\n",
              "su               21.1797   4.55e+04      0.000      1.000   -8.92e+04    8.93e+04\n",
              "va               21.1851   4.55e+04      0.000      1.000   -8.92e+04    8.93e+04\n",
              "vb               20.8977   4.55e+04      0.000      1.000   -8.92e+04    8.93e+04\n",
              "vi                0.1893   4.89e+04   3.87e-06      1.000   -9.58e+04    9.58e+04\n",
              "wb                0.0865   5.41e+04    1.6e-06      1.000   -1.06e+05    1.06e+05\n",
              "=================================================================================\n",
              "\"\"\""
            ]
          },
          "metadata": {
            "tags": []
          },
          "execution_count": 25
        }
      ]
    },
    {
      "cell_type": "markdown",
      "metadata": {
        "id": "KiQwiYj-3phS"
      },
      "source": [
        "+a+b+c+d+e+f+a1+b1+c1+d1+e1+f1+g1+h1+i1+j1"
      ]
    },
    {
      "cell_type": "code",
      "metadata": {
        "id": "XgETfFBdSdp9",
        "colab": {
          "base_uri": "https://localhost:8080/"
        },
        "outputId": "e991e5c5-fcae-4598-cf99-fb0733e1ef80"
      },
      "source": [
        "importance = clf.coef_[0]\n",
        "# summarize feature importance\n",
        "for i,v in enumerate(importance):\n",
        "\t#print('Feature: %0d, Score: %.5f' % (i,v))\n",
        "  print('%.5f' % (v))"
      ],
      "execution_count": null,
      "outputs": [
        {
          "output_type": "stream",
          "text": [
            "0.00002\n",
            "-0.00043\n",
            "-0.00074\n",
            "-0.00219\n",
            "0.00362\n",
            "0.00192\n",
            "0.08279\n",
            "-0.02162\n",
            "-0.10602\n",
            "-0.00836\n",
            "0.00559\n",
            "-0.00139\n",
            "-0.00112\n",
            "-0.02826\n",
            "-0.09852\n",
            "-0.14946\n",
            "0.07370\n",
            "0.00505\n",
            "-0.03712\n",
            "-0.01873\n",
            "-0.22003\n",
            "0.26976\n",
            "0.00985\n",
            "0.06086\n",
            "-0.01016\n",
            "-0.00452\n",
            "0.04512\n",
            "-0.27910\n",
            "-0.03145\n",
            "-0.04086\n",
            "0.11168\n",
            "0.07386\n",
            "-0.03339\n",
            "-0.14733\n",
            "-0.00078\n",
            "0.08587\n",
            "0.00855\n",
            "-0.00104\n",
            "-0.00033\n",
            "-0.00221\n",
            "-0.05317\n",
            "0.02309\n"
          ],
          "name": "stdout"
        }
      ]
    },
    {
      "cell_type": "code",
      "metadata": {
        "id": "BfUkqqzSM0So",
        "colab": {
          "base_uri": "https://localhost:8080/"
        },
        "outputId": "f2a73709-250e-4e9b-f2d1-52b8cceac5be"
      },
      "source": [
        "from sklearn.metrics import accuracy_score\n",
        "accuracy_score(y_test, predicted)"
      ],
      "execution_count": null,
      "outputs": [
        {
          "output_type": "execute_result",
          "data": {
            "text/plain": [
              "0.8098399062866068"
            ]
          },
          "metadata": {
            "tags": []
          },
          "execution_count": 31
        }
      ]
    },
    {
      "cell_type": "code",
      "metadata": {
        "id": "iGcNDYkSr-99",
        "colab": {
          "base_uri": "https://localhost:8080/"
        },
        "outputId": "02ee05a2-fd74-45bb-fe67-bd6b4f606eb9"
      },
      "source": [
        "from sklearn.ensemble import RandomForestClassifier\n",
        "clf = RandomForestClassifier(n_estimators = 1000, max_depth= 2, random_state=0)\n",
        "clf.fit(U_train, y_train)\n",
        "predicted = clf.predict(U_test)\n",
        "predicted"
      ],
      "execution_count": null,
      "outputs": [
        {
          "output_type": "execute_result",
          "data": {
            "text/plain": [
              "array([0., 0., 0., ..., 0., 0., 0.])"
            ]
          },
          "metadata": {
            "tags": []
          },
          "execution_count": 32
        }
      ]
    },
    {
      "cell_type": "code",
      "metadata": {
        "id": "VsZAoU2tM6E8",
        "colab": {
          "base_uri": "https://localhost:8080/"
        },
        "outputId": "8246f5bd-d3e5-44f5-83fd-49237618267a"
      },
      "source": [
        "from sklearn.metrics import accuracy_score\n",
        "accuracy_score(y_test, predicted)"
      ],
      "execution_count": null,
      "outputs": [
        {
          "output_type": "execute_result",
          "data": {
            "text/plain": [
              "0.8012495119094104"
            ]
          },
          "metadata": {
            "tags": []
          },
          "execution_count": 33
        }
      ]
    },
    {
      "cell_type": "markdown",
      "metadata": {
        "id": "L0flNyWUk4a1"
      },
      "source": [
        "dividing data into bins\n",
        "K=1+3.322logN\n",
        "K=15bins"
      ]
    },
    {
      "cell_type": "code",
      "metadata": {
        "id": "i6UWGqP9k1kL",
        "colab": {
          "base_uri": "https://localhost:8080/"
        },
        "outputId": "787fada0-3994-45c0-ba9c-9903e66603d9"
      },
      "source": [
        "from sklearn.metrics import classification_report,confusion_matrix\n",
        "#classification_report(y_test, predicted)\n",
        "print(classification_report(y_test,predicted))\n",
        "print(confusion_matrix(y_test,predicted))"
      ],
      "execution_count": null,
      "outputs": [
        {
          "output_type": "stream",
          "text": [
            "              precision    recall  f1-score   support\n",
            "\n",
            "         0.0       0.80      1.00      0.89      2052\n",
            "         1.0       0.00      0.00      0.00       509\n",
            "\n",
            "    accuracy                           0.80      2561\n",
            "   macro avg       0.40      0.50      0.44      2561\n",
            "weighted avg       0.64      0.80      0.71      2561\n",
            "\n",
            "[[2052    0]\n",
            " [ 509    0]]\n"
          ],
          "name": "stdout"
        },
        {
          "output_type": "stream",
          "text": [
            "/usr/local/lib/python3.7/dist-packages/sklearn/metrics/_classification.py:1272: UndefinedMetricWarning: Precision and F-score are ill-defined and being set to 0.0 in labels with no predicted samples. Use `zero_division` parameter to control this behavior.\n",
            "  _warn_prf(average, modifier, msg_start, len(result))\n"
          ],
          "name": "stderr"
        }
      ]
    },
    {
      "cell_type": "code",
      "metadata": {
        "id": "h2Yk78ArRyWE"
      },
      "source": [
        ""
      ],
      "execution_count": null,
      "outputs": []
    },
    {
      "cell_type": "code",
      "metadata": {
        "id": "bh8DOdfxTz6d"
      },
      "source": [
        ""
      ],
      "execution_count": null,
      "outputs": []
    },
    {
      "cell_type": "code",
      "metadata": {
        "id": "3QNIiRP2S3i-"
      },
      "source": [
        ""
      ],
      "execution_count": null,
      "outputs": []
    },
    {
      "cell_type": "code",
      "metadata": {
        "id": "FP_wxCCMm-n6"
      },
      "source": [
        ""
      ],
      "execution_count": null,
      "outputs": []
    }
  ]
}